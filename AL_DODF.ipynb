{
  "nbformat": 4,
  "nbformat_minor": 0,
  "metadata": {
    "colab": {
      "name": "AL_DODF.ipynb",
      "provenance": [],
      "collapsed_sections": []
    },
    "kernelspec": {
      "name": "python3",
      "display_name": "Python 3"
    }
  },
  "cells": [
    {
      "cell_type": "markdown",
      "metadata": {
        "id": "NgKoSekMR1tC",
        "colab_type": "text"
      },
      "source": [
        "# Active Learning para a base de dados de Secretarias do DODF"
      ]
    },
    {
      "cell_type": "markdown",
      "metadata": {
        "id": "AND0wGnplrJn",
        "colab_type": "text"
      },
      "source": [
        "O código a seguir implementa um algoritmo de Active Learning usando Support Vector Machine (SVM) para a base de dados de secretarias do DODF. \n",
        "\n",
        "Para a escolha das instâncias a serem rotuladas, foram implementadas duas abordagens: distância da instância para o hiperplano e o algoritmo Best vs Second Best (BvSB)."
      ]
    },
    {
      "cell_type": "code",
      "metadata": {
        "id": "DWEweserxomH",
        "colab_type": "code",
        "colab": {}
      },
      "source": [
        "'''\n",
        "    dodf_simple\n",
        "\n",
        "    Active learning with Support Vector Machine\n",
        "    baseado no trabalho do aluno Hichemm Khalid Medeiros\n",
        "'''\n",
        "import re\n",
        "import pandas as pd\n",
        "import numpy as np\n",
        "from sklearn.svm import LinearSVC\n",
        "from sklearn.calibration import CalibratedClassifierCV\n",
        "from sklearn import metrics\n",
        "from sklearn.feature_extraction.text import TfidfVectorizer\n",
        "import matplotlib.pyplot as plt\n"
      ],
      "execution_count": 0,
      "outputs": []
    },
    {
      "cell_type": "code",
      "metadata": {
        "id": "kxRZ6KRqSLnj",
        "colab_type": "code",
        "colab": {}
      },
      "source": [
        "def cleanText(text):\n",
        "    '''Normalização do texto retirando acentuação, caracteres especiais,\n",
        "       espaços adicionais e caracteres não textuais'''\n",
        "\n",
        "    text = text.lower()\n",
        "    text = re.sub(r\"ú\", \"u\", text)\n",
        "    text = re.sub(r\"á\", \"a\", text)\n",
        "    text = re.sub(r\"é\", \"e\", text)\n",
        "    text = re.sub(r\"í\", \"i\", text)\n",
        "    text = re.sub(r\"ó\", \"o\", text)\n",
        "    text = re.sub(r\"u\", \"u\", text)\n",
        "    text = re.sub(r\"â\", \"a\", text)\n",
        "    text = re.sub(r\"ê\", \"e\", text)\n",
        "    text = re.sub(r\"ô\", \"o\", text)\n",
        "    text = re.sub(r\"à\", \"a\", text)\n",
        "    text = re.sub(r\"ã\", \"a\", text)\n",
        "    text = re.sub(r\"õ\", \"o\", text)\n",
        "    text = re.sub(r\"ç\", \"c\", text)\n",
        "    text = re.sub(r\"\\\\W\", \" \", text)\n",
        "    text = re.sub(r\"\\\\s+\", \" \", text)\n",
        "    text = text.strip(' ')\n",
        "    return text\n",
        "\n",
        "\n",
        "def clfTest(clf):\n",
        "    '''Faz as classificacoes e mostra a f1-score resultante'''\n",
        "\n",
        "    pred = clf.predict(X_test)\n",
        "\n",
        "    return metrics.f1_score(y_test, pred, average='micro')"
      ],
      "execution_count": 0,
      "outputs": []
    },
    {
      "cell_type": "markdown",
      "metadata": {
        "id": "UnwqsBPdy9kW",
        "colab_type": "text"
      },
      "source": [
        "## Best vs Second Best\n",
        "\n",
        "Esse algoritmo é descrito no artigo [Multi-Class Active Learning for Image Classification](https://www.merl.com/publications/docs/TR2009-034.pdf) e consiste em calcular a diferença na probabilidade da instância pertencer à classe mais provável e a probabilidade de pertencer à segunda classe mais provável. As instâncias em que essa diferença for menor são as que devem ser rotuladas a seguir."
      ]
    },
    {
      "cell_type": "code",
      "metadata": {
        "id": "b8DUPtANUTU2",
        "colab_type": "code",
        "colab": {}
      },
      "source": [
        "def benchmarkBvSB(clf):\n",
        "    '''Processamento do conjunto de treinamento e escolha dos exemplos a serem rotulados usando o algoritmo Best vs Second Best'''\n",
        "\n",
        "    clf.fit(X_train, y_train)\n",
        "\n",
        "    probabilities = clf.predict_proba(X_unlabeled)\n",
        "\n",
        "    BvSB = []\n",
        "    for list in probabilities:\n",
        "        list = list.tolist()\n",
        "        best = list.pop(list.index(max(list)))\n",
        "        second_best = list.pop(list.index(max(list)))\n",
        "        BvSB.append(best-second_best)\n",
        "\n",
        "    df = pd.DataFrame(clf.predict(X_unlabeled))\n",
        "    df = df.assign(conf = BvSB)\n",
        "    df.columns = ['label', 'conf']\n",
        "    df.sort_values(by=['conf'], ascending=True, inplace=True)\n",
        "    question_samples = []\n",
        "\n",
        "    for category in categories:\n",
        "        low_confidence_samples = df[df.label == category].conf.index[0:NUM_QUESTIONS]\n",
        "        question_samples.extend(low_confidence_samples.tolist())\n",
        "        df.drop(index=df[df.label == category][0:NUM_QUESTIONS].index, inplace=True)\n",
        "\n",
        "    return question_samples"
      ],
      "execution_count": 0,
      "outputs": []
    },
    {
      "cell_type": "code",
      "metadata": {
        "id": "mulxbyO9xhKy",
        "colab_type": "code",
        "outputId": "6cb0887b-88e9-4ff1-eb09-272992e791f7",
        "colab": {
          "base_uri": "https://localhost:8080/",
          "height": 295
        }
      },
      "source": [
        "estimator = LinearSVC(loss='squared_hinge', penalty='l2', dual=False, tol=1e-3, class_weight='balanced')\n",
        "classifier = CalibratedClassifierCV(base_estimator=estimator, cv=2)\n",
        "\n",
        "# Quantidade de requisicoes de rotulos para o oraculo que serao feitas por vez\n",
        "NUM_QUESTIONS = 3\n",
        "\n",
        "PATH_TRAIN = \"dodftrain.csv\"\n",
        "ENCODING = 'utf-8'\n",
        "result_x = []\n",
        "result_y = []\n",
        "\n",
        "df = pd.read_csv(PATH_TRAIN,encoding = ENCODING,header = 0)\n",
        "df['label'] = df['label'].map(lambda com: cleanText(com))\n",
        "df['text'] = df['text'].map(lambda com: cleanText(com))\n",
        "\n",
        "categories = df.label.unique()\n",
        "\n",
        "\"\"\"Divisao do dataset entre informacoes de treinamento e teste:\"\"\"\n",
        "\n",
        "# df_test = df.sample(frac = 0.33, random_state = 1)\n",
        "df_test = df.sample(n=100, random_state = 1)\n",
        "\n",
        "df_train = df.drop(index = df_test.index)\n",
        "\n",
        "df_train.reset_index(drop=True, inplace=True)\n",
        "df_test.reset_index(drop=True, inplace=True)\n",
        "\n",
        "MAX_SIZE = df_train.label.size\n",
        "\n",
        "\"\"\"Cria o dataframe com os exemplos rotulados:\n",
        "*    Seleciona um exemplo para cada rotulo\n",
        "\"\"\"\n",
        "\n",
        "df_labeled = pd.DataFrame()\n",
        "\n",
        "for index, category in enumerate(categories):\n",
        "    df_labeled = df_labeled.append( df_train[df_train.label==category][0:3], ignore_index=True )\n",
        "    df_train.drop(index = df_train[df_train.label==category][0:3].index, inplace=True)\n",
        "\n",
        "df_unlabeled = df_train\n",
        "\n",
        "df_train = df_labeled\n",
        "\n",
        "# Active learning : loop\n",
        "\n",
        "while True:\n",
        "\n",
        "    y_train = df_train.label\n",
        "    y_test = df_test.label\n",
        "\n",
        "    df_unlabeled = df_unlabeled.reset_index(drop=True)\n",
        "\n",
        "    vectorizer = TfidfVectorizer(encoding= ENCODING, use_idf=True, norm='l2', binary=False, sublinear_tf=True,min_df=0.0001, max_df=1.0, ngram_range=(1, 3), analyzer='word', stop_words=None)\n",
        "\n",
        "    X_train = vectorizer.fit_transform(df_train.text)\n",
        "    X_test = vectorizer.transform(df_test.text)\n",
        "    X_unlabeled = vectorizer.transform(df_unlabeled.text)\n",
        "\n",
        "    df_unified = df_train.append(df_unlabeled)\n",
        "    X_unified  = vectorizer.transform(df_unified.text)\n",
        "\n",
        "    question_samples = benchmarkBvSB(classifier)\n",
        "    result_x.append(clfTest(classifier))\n",
        "    result_y.append(df_train.label.size)\n",
        "\n",
        "    if (df_train.label.size < MAX_SIZE - (len(categories) * NUM_QUESTIONS + 1)) and ((len(result_x) < 2) or ( (result_x[-1] - result_x[-2] > -1) or (result_x[-1] < result_x[-2]) )):\n",
        "        insert = {'label':[], 'text':[]}\n",
        "        cont = 0\n",
        "        for i in question_samples:\n",
        "            try:\n",
        "                insert[\"label\"].insert(cont, df_unlabeled.label[i])\n",
        "                insert[\"text\"].insert(cont, df_unlabeled.text[i])\n",
        "                cont += 1\n",
        "                df_unlabeled = df_unlabeled.drop(i)\n",
        "            except Exception as e:\n",
        "                print(\"Error:\", e)\n",
        "\n",
        "        df_insert = pd.DataFrame.from_dict(insert)\n",
        "        df_train = df_train.append(df_insert, ignore_index=True, sort=False)\n",
        "\n",
        "    else:\n",
        "        result_y_active = result_y\n",
        "        result_x_active = result_x\n",
        "        plt.plot(result_y_active, result_x_active, label='Active learning')\n",
        "        plt.axis([0, MAX_SIZE, 0.3, 1.0])\n",
        "        plt.legend(loc='lower right', shadow=True, fontsize='x-large')\n",
        "        plt.grid(True)\n",
        "        plt.xlabel('Training set size')\n",
        "        plt.ylabel('f1-score')\n",
        "        plt.title('Documents set')\n",
        "        plt.show()\n",
        "\n",
        "        result = pd.DataFrame(result_y)\n",
        "        result = result.assign(y=result_x)\n",
        "        np.savetxt('results.txt', result, fmt='%f')\n",
        "\n",
        "        break\n",
        "\n",
        "    # end"
      ],
      "execution_count": 7,
      "outputs": [
        {
          "output_type": "display_data",
          "data": {
            "image/png": "[encoded data removed]",
            "text/plain": [
              "<Figure size 432x288 with 1 Axes>"
            ]
          },
          "metadata": {
            "tags": [],
            "needs_background": "light"
          }
        }
      ]
    },
    {
      "cell_type": "markdown",
      "metadata": {
        "id": "kwUwZ3wo1MPq",
        "colab_type": "text"
      },
      "source": [
        "## Distância para o hiperplano\n",
        "\n",
        "Para essa abordagem, foi usado o método [decision_function()](https://scikit-learn.org/stable/modules/generated/sklearn.svm.LinearSVC.html#sklearn.svm.LinearSVC.decision_function) do classificador [LinearSVC()](https://scikit-learn.org/stable/modules/generated/sklearn.svm.LinearSVC.html) para a escolha das instâncias a serem rotuladas. "
      ]
    },
    {
      "cell_type": "code",
      "metadata": {
        "id": "_JoAN634xuHJ",
        "colab_type": "code",
        "colab": {}
      },
      "source": [
        "def benchmark(clf):\n",
        "    '''Processamento do conjunto de treinamento e escolha dos exemplos a serem rotulados'''\n",
        "\n",
        "    clf.fit(X_train, y_train)\n",
        "\n",
        "    confidences = clf.decision_function(X_unlabeled)\n",
        "\n",
        "    df = pd.DataFrame(clf.predict(X_unlabeled))\n",
        "    df = df.assign(conf = confidences.max(1))\n",
        "    df.columns = ['label', 'conf']\n",
        "    df.sort_values(by=['conf'], ascending=False, inplace=True)\n",
        "    question_samples = []\n",
        "\n",
        "    for category in categories:\n",
        "        low_confidence_samples = df[df.label == category].conf.index[0:NUM_QUESTIONS]\n",
        "        question_samples.extend(low_confidence_samples.tolist())\n",
        "        df.drop(index=df[df.label == category][0:NUM_QUESTIONS].index, inplace=True)\n",
        "\n",
        "    return question_samples"
      ],
      "execution_count": 0,
      "outputs": []
    },
    {
      "cell_type": "code",
      "metadata": {
        "id": "FnP40s9OY49p",
        "colab_type": "code",
        "outputId": "3eebf2e8-436e-4124-a164-7cd2c47c9bf8",
        "colab": {
          "base_uri": "https://localhost:8080/",
          "height": 295
        }
      },
      "source": [
        "estimator = LinearSVC(loss='squared_hinge', penalty='l2', dual=False, tol=1e-3, class_weight='balanced')\n",
        "\n",
        "# Quantidade de requisicoes de rotulos para o oraculo que serao feitas por vez\n",
        "NUM_QUESTIONS = 3\n",
        "\n",
        "PATH_TRAIN = \"dodftrain.csv\"\n",
        "ENCODING = 'utf-8'\n",
        "result_x = []\n",
        "result_y = []\n",
        "\n",
        "df = pd.read_csv(PATH_TRAIN,encoding = ENCODING,header = 0)\n",
        "df['label'] = df['label'].map(lambda com: cleanText(com))\n",
        "df['text'] = df['text'].map(lambda com: cleanText(com))\n",
        "\n",
        "categories = df.label.unique()\n",
        "\n",
        "\"\"\"Divisao do dataset entre informacoes de treinamento e teste:\"\"\"\n",
        "\n",
        "# df_test = df.sample(frac = 0.33, random_state = 1)\n",
        "df_test = df.sample(n=100, random_state = 1)\n",
        "\n",
        "df_train = df.drop(index = df_test.index)\n",
        "\n",
        "df_train.reset_index(drop=True, inplace=True)\n",
        "df_test.reset_index(drop=True, inplace=True)\n",
        "\n",
        "MAX_SIZE = df_train.label.size\n",
        "\n",
        "\"\"\"Cria o dataframe com os exemplos rotulados:\n",
        "*    Seleciona um exemplo para cada rotulo\n",
        "\"\"\"\n",
        "\n",
        "df_labeled = pd.DataFrame()\n",
        "\n",
        "for index, category in enumerate(categories):\n",
        "    df_labeled = df_labeled.append( df_train[df_train.label==category][0:3], ignore_index=True )\n",
        "    df_train.drop(index = df_train[df_train.label==category][0:3].index, inplace=True)\n",
        "\n",
        "df_unlabeled = df_train\n",
        "\n",
        "df_train = df_labeled\n",
        "\n",
        "# Active learning : loop\n",
        "\n",
        "while True:\n",
        "\n",
        "    y_train = df_train.label\n",
        "    y_test = df_test.label\n",
        "\n",
        "    df_unlabeled = df_unlabeled.reset_index(drop=True)\n",
        "\n",
        "    vectorizer = TfidfVectorizer(encoding= ENCODING, use_idf=True, norm='l2', binary=False, sublinear_tf=True,min_df=0.0001, max_df=1.0, ngram_range=(1, 3), analyzer='word', stop_words=None)\n",
        "\n",
        "    X_train = vectorizer.fit_transform(df_train.text)\n",
        "    X_test = vectorizer.transform(df_test.text)\n",
        "    X_unlabeled = vectorizer.transform(df_unlabeled.text)\n",
        "\n",
        "    df_unified = df_train.append(df_unlabeled)\n",
        "    X_unified  = vectorizer.transform(df_unified.text)\n",
        "\n",
        "    question_samples = benchmark(estimator)\n",
        "    result_x.append(clfTest(estimator))\n",
        "    result_y.append(df_train.label.size)\n",
        "\n",
        "    if (df_train.label.size < MAX_SIZE - (len(categories) * NUM_QUESTIONS + 1)) and ((len(result_x) < 2) or ( (result_x[-1] - result_x[-2] > -1) or (result_x[-1] < result_x[-2]) )):\n",
        "        insert = {'label':[], 'text':[]}\n",
        "        cont = 0\n",
        "        for i in question_samples:\n",
        "            try:\n",
        "                insert[\"label\"].insert(cont, df_unlabeled.label[i])\n",
        "                insert[\"text\"].insert(cont, df_unlabeled.text[i])\n",
        "                cont += 1\n",
        "                df_unlabeled = df_unlabeled.drop(i)\n",
        "            except Exception as e:\n",
        "                print(\"Error:\", e)\n",
        "\n",
        "        df_insert = pd.DataFrame.from_dict(insert)\n",
        "        df_train = df_train.append(df_insert, ignore_index=True, sort=False)\n",
        "\n",
        "    else:\n",
        "        result_y_active = result_y\n",
        "        result_x_active = result_x\n",
        "        plt.plot(result_y_active, result_x_active, label='Active learning')\n",
        "        plt.axis([0, MAX_SIZE, 0.3, 1.0])\n",
        "        plt.legend(loc='lower right', shadow=True, fontsize='x-large')\n",
        "        plt.grid(True)\n",
        "        plt.xlabel('Training set size')\n",
        "        plt.ylabel('f1-score')\n",
        "        plt.title('Documents set')\n",
        "        plt.show()\n",
        "\n",
        "        result = pd.DataFrame(result_y)\n",
        "        result = result.assign(y=result_x)\n",
        "        np.savetxt('results.txt', result, fmt='%f')\n",
        "\n",
        "        break\n",
        "\n",
        "    # end"
      ],
      "execution_count": 9,
      "outputs": [
        {
          "output_type": "display_data",
          "data": {
            "image/png": "[encoded data removed]",
            "text/plain": [
              "<Figure size 432x288 with 1 Axes>"
            ]
          },
          "metadata": {
            "tags": [],
            "needs_background": "light"
          }
        }
      ]
    },
    {
      "cell_type": "markdown",
      "metadata": {
        "id": "FdzxwjCE2fbX",
        "colab_type": "text"
      },
      "source": [
        "Comparando os gráficos F1-score vs Tamanho do conjunto de treinamento dos dois métodos, é possível observar que o algoritmo BvSB resulta em uma curva cujo coeficiente angular é bem maior inicialmente e que chega a um f1-score bastante aceitável com bem menos exemplos de treinamento."
      ]
    },
    {
      "cell_type": "markdown",
      "metadata": {
        "id": "Bksd3cqw3wwa",
        "colab_type": "text"
      },
      "source": [
        "A fim de melhor entendimento, o código a seguir mostra a ordem em que os exemplos serão escolhidos pelos dois métodos. As instâncias que estão mais no início do dataframe, lembrando que ele foi ordenado de acordo com cada abordagem, serão escolhidas primeiro para serem rotuladas."
      ]
    },
    {
      "cell_type": "code",
      "metadata": {
        "id": "fRQkkcoF5mDe",
        "colab_type": "code",
        "outputId": "25d708e1-40b6-4bbd-bae3-ac32cac3435d",
        "colab": {
          "base_uri": "https://localhost:8080/",
          "height": 347
        }
      },
      "source": [
        "estimator = LinearSVC(loss='squared_hinge', penalty='l2', dual=False, tol=1e-3, class_weight='balanced')\n",
        "clf = CalibratedClassifierCV(base_estimator=estimator, cv=2)\n",
        "\n",
        "PATH_TRAIN = \"dodftrain.csv\"\n",
        "ENCODING = 'utf-8'\n",
        "\n",
        "df = pd.read_csv(PATH_TRAIN,encoding = ENCODING,header = 0)\n",
        "df['label'] = df['label'].map(lambda com: cleanText(com))\n",
        "df['text'] = df['text'].map(lambda com: cleanText(com))\n",
        "\n",
        "categories = df.label.unique()\n",
        "\n",
        "\"\"\"Divisao do dataset entre informacoes de treinamento e teste:\"\"\"\n",
        "\n",
        "df_test = df.sample(n=100, random_state = 1)\n",
        "\n",
        "df_train = df.drop(index = df_test.index)\n",
        "\n",
        "df_train.reset_index(drop=True, inplace=True)\n",
        "df_test.reset_index(drop=True, inplace=True)\n",
        "\n",
        "\"\"\"Cria o dataframe com os exemplos rotulados:\n",
        "*    Seleciona um exemplo para cada rotulo\n",
        "\"\"\"\n",
        "\n",
        "df_labeled = pd.DataFrame()\n",
        "\n",
        "for index, category in enumerate(categories):\n",
        "    df_labeled = df_labeled.append( df_train[df_train.label==category][0:5], ignore_index=True )\n",
        "    df_train.drop(index = df_train[df_train.label==category][0:5].index, inplace=True)\n",
        "\n",
        "df_unlabeled = df_train[0:7]\n",
        "\n",
        "df_train = df_labeled\n",
        "\n",
        "\n",
        "y_train = df_train.label\n",
        "y_test = df_test.label\n",
        "\n",
        "df_unlabeled = df_unlabeled.reset_index(drop=True)\n",
        "\n",
        "vectorizer = TfidfVectorizer(encoding= ENCODING, use_idf=True, norm='l2', binary=False, sublinear_tf=True,min_df=0.0001, max_df=1.0, ngram_range=(1, 3), analyzer='word', stop_words=None)\n",
        "\n",
        "X_train = vectorizer.fit_transform(df_train.text)\n",
        "X_test = vectorizer.transform(df_test.text)\n",
        "X_unlabeled = vectorizer.transform(df_unlabeled.text)\n",
        "\n",
        "df_unified = df_train.append(df_unlabeled)\n",
        "X_unified  = vectorizer.transform(df_unified.text)\n",
        "\n",
        "\n",
        "clf.fit(X_train, y_train)\n",
        "\n",
        "probabilities = clf.predict_proba(X_unlabeled)\n",
        "\n",
        "BvSB = []\n",
        "for list in probabilities:\n",
        "    list = list.tolist()\n",
        "    best = list.pop(list.index(max(list)))\n",
        "    second_best = list.pop(list.index(max(list)))\n",
        "    BvSB.append(best-second_best)\n",
        "\n",
        "df = pd.DataFrame(clf.predict(X_unlabeled))\n",
        "df = df.assign(conf = BvSB)\n",
        "df.columns = ['label', 'conf']\n",
        "df.sort_values(by=['conf'], ascending=True, inplace=True)\n",
        "\n",
        "print('**************Best vs Second Best**************')\n",
        "print(df)\n",
        "print()\n",
        "\n",
        "\n",
        "estimator.fit(X_train, y_train)\n",
        "\n",
        "confidences = estimator.decision_function(X_unlabeled)\n",
        "\n",
        "df = pd.DataFrame(estimator.predict(X_unlabeled))\n",
        "df = df.assign(conf = confidences.max(1))\n",
        "df.columns = ['label', 'conf']\n",
        "df.sort_values(by=['conf'], ascending=False, inplace=True)\n",
        "\n",
        "print('**************Decision Function**************')\n",
        "print(df)"
      ],
      "execution_count": 10,
      "outputs": [
        {
          "output_type": "stream",
          "text": [
            "**************Best vs Second Best**************\n",
            "                                               label      conf\n",
            "2                                    poder executivo  0.093875\n",
            "5             tribunal de contas do distrito federal  0.120231\n",
            "6          secretaria de estado de seguranca publica  0.216241\n",
            "0          secretaria de estado de seguranca publica  0.288194\n",
            "3          secretaria de estado de seguranca publica  0.314765\n",
            "1  secretaria de estado de fazenda, planejamento,...  0.331893\n",
            "4  secretaria de estado de fazenda, planejamento,...  0.465399\n",
            "\n",
            "**************Decision Function**************\n",
            "                                               label      conf\n",
            "3          secretaria de estado de seguranca publica  0.232400\n",
            "1  secretaria de estado de fazenda, planejamento,...  0.189277\n",
            "0          secretaria de estado de seguranca publica -0.001061\n",
            "4  secretaria de estado de fazenda, planejamento,... -0.500846\n",
            "6          secretaria de estado de seguranca publica -0.511562\n",
            "2                                    poder executivo -0.586446\n",
            "5            controladoria geral do distrito federal -0.706086\n"
          ],
          "name": "stdout"
        }
      ]
    }
  ]
}